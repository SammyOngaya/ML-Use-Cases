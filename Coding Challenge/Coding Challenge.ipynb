{
 "cells": [
  {
   "cell_type": "markdown",
   "metadata": {},
   "source": [
    "1) FizzBuzz. Print numbers from 1 to 100\n",
    "\n",
    "\n",
    "\n",
    "\n",
    "\n",
    "If it’s a multiplier of 3, print “fizz”\n",
    "If it’s a multiplier of 5, print “buzz”\n",
    "If both 3 and 5 — “fizzbuzz\"\n",
    "Otherwise, print the number itself \n",
    "Example of output: 1, 2, Fizz, 4, Buzz, Fizz, 7, 8, Fizz, Buzz, 11, Fizz, 13, 14, Fizz Buzz, 16, 17, Fizz, 19, Buzz, Fizz, 22, 23, Fizz, Buzz, 26, Fizz, 28, 29, Fizz Buzz, 31, 32, Fizz, 34, Buzz, Fizz, ..."
   ]
  },
  {
   "cell_type": "markdown",
   "metadata": {},
   "source": [
    "2) Factorial. Calculate a factorial of a number\n",
    "\n",
    "\n",
    "\n",
    "\n",
    "\n",
    "factorial(5) = 5! = 1 * 2 * 3 * 4 * 5 = 120\n",
    "factorial(10) = 10! = 1 * 2 * 3 * 4 * 5 * 6 * 7 * 8 * 9 * 10 = 3628800"
   ]
  },
  {
   "cell_type": "markdown",
   "metadata": {},
   "source": [
    "3) Mean. Compute the mean of number in a list\n",
    "\n",
    "\n",
    "\n",
    "\n",
    "\n",
    "mean([4, 36, 45, 50, 75]) = 42\n",
    "mean([]) = NaN (use float('NaN'))\n",
    "\n"
   ]
  },
  {
   "cell_type": "markdown",
   "metadata": {},
   "source": [
    "4) STD. Calculate the standard deviation of elements in a list. \n",
    "\n",
    "\n",
    "\n",
    "\n",
    "\n",
    "std([1, 2, 3, 4]) = 1.29\n",
    "std([1]) = NaN\n",
    "std([]) = NaN\n"
   ]
  },
  {
   "cell_type": "markdown",
   "metadata": {},
   "source": [
    "5) RMSE. Calculate the RMSE (root mean squared error) of a model. The function takes in two lists: one with actual values, one with predictions.\n",
    "\n",
    "\n",
    "\n",
    "\n",
    "\n",
    "rmse([1, 2], [1, 2]) = 0\n",
    "rmse([1, 2, 3], [3, 2, 1]) = 1.63\n"
   ]
  },
  {
   "cell_type": "markdown",
   "metadata": {},
   "source": [
    "6) Remove duplicates. Remove duplicates in list. The list is not sorted and the order of elements from the original list should be preserved.\n",
    "\n",
    "\n",
    "1\n",
    "\n",
    "\n",
    "[1, 2, 3, 1] ⇒ [1, 2, 3]\n",
    "[1, 3, 2, 1, 5, 3, 5, 1, 4] ⇒ [1, 3, 2, 5, 4]"
   ]
  },
  {
   "cell_type": "markdown",
   "metadata": {},
   "source": [
    "7) Count. Count how many times each element in a list occurs.\n",
    "\n",
    "\n",
    "\n",
    "\n",
    "\n",
    "[1, 3, 2, 1, 5, 3, 5, 1, 4] ⇒  \n",
    "\n",
    "\n",
    "\n",
    "\n",
    "\n",
    "1: 3 times\n",
    "2: 1 time\n",
    "3: 2 times\n",
    "4: 1 time\n",
    "5: 2 times"
   ]
  },
  {
   "cell_type": "markdown",
   "metadata": {},
   "source": [
    "8) Palindrome. Is string a palindrome? A palindrome is a word which reads the same backward as forwards.\n",
    "\n",
    "\n",
    "\n",
    "\n",
    "\n",
    "“ololo” ⇒ Yes\n",
    "“cafe” ⇒ No"
   ]
  },
  {
   "cell_type": "markdown",
   "metadata": {},
   "source": [
    "11) RLE. Implement RLE (run-length encoding): encode each character by the number of times it appears consecutively.\n",
    "\n",
    "\n",
    "\n",
    "\n",
    "\n",
    "'aaaabbbcca' ⇒ [('a', 4), ('b', 3), ('c', 2), ('a', 1)]\n",
    "(note that there are two groups of 'a')"
   ]
  },
  {
   "cell_type": "markdown",
   "metadata": {},
   "source": [
    "12) Jaccard. Calculate the Jaccard similarity between two sets: the size of intersection divided by the size of union.\n",
    "\n",
    "\n",
    "\n",
    "\n",
    "\n",
    "jaccard({'a', 'b', 'c'}, {'a', 'd'}) = 1 / 4 "
   ]
  },
  {
   "cell_type": "markdown",
   "metadata": {},
   "source": [
    "13) IDF. Given a collection of already tokenized texts, calculate the IDF (inverse document frequency) of each token.\n",
    "\n",
    "\n",
    "\n",
    "\n",
    "\n",
    "input example: [['interview', 'questions'], ['interview', 'answers']]\n",
    "\n",
    "Where:\n",
    "\n",
    "\n",
    "\n",
    "\n",
    "\n",
    "t is the token,\n",
    "n(t) is the number of documents that t occurs in,\n",
    "N is the total number of documents"
   ]
  },
  {
   "cell_type": "code",
   "execution_count": null,
   "metadata": {},
   "outputs": [],
   "source": []
  }
 ],
 "metadata": {
  "kernelspec": {
   "display_name": "Python 3",
   "language": "python",
   "name": "python3"
  },
  "language_info": {
   "codemirror_mode": {
    "name": "ipython",
    "version": 3
   },
   "file_extension": ".py",
   "mimetype": "text/x-python",
   "name": "python",
   "nbconvert_exporter": "python",
   "pygments_lexer": "ipython3",
   "version": "3.6.5"
  }
 },
 "nbformat": 4,
 "nbformat_minor": 2
}
