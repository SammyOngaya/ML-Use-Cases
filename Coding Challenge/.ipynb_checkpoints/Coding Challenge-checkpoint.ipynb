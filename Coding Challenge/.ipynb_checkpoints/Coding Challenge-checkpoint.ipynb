{
 "cells": [
  {
   "cell_type": "markdown",
   "metadata": {},
   "source": [
    "https://hackernoon.com/technical-data-science-interview-questions-sql-and-coding-jv1k32bf <br>\n",
    "https://www.interviewquery.com/blog-machine-learning-interview-questions/ <br>\n",
    "https://medium.com/swlh/how-to-answer-data-science-interview-coding-questions-b5e6b2335c7e <br>\n",
    "https://github.com/kojino/120-Data-Science-Interview-Questions"
   ]
  },
  {
   "cell_type": "markdown",
   "metadata": {},
   "source": [
    "1) FizzBuzz. Print numbers from 1 to 100<br>\n",
    "If it’s a multiplier of 3, print “fizz”<br>\n",
    "If it’s a multiplier of 5, print “buzz”<br>\n",
    "If both 3 and 5 — “fizzbuzz\"<br>\n",
    "Otherwise, print the number itself <br><br>\n",
    "Example of output: 1, 2, Fizz, 4, Buzz, Fizz, 7, 8, Fizz, Buzz, 11, Fizz, 13, 14, Fizz Buzz, 16, 17, Fizz, 19, Buzz, Fizz, 22, 23, Fizz, Buzz, 26, Fizz, 28, 29, Fizz Buzz, 31, 32, Fizz, 34, Buzz, Fizz, ..."
   ]
  },
  {
   "cell_type": "markdown",
   "metadata": {},
   "source": [
    "2) Factorial. Calculate a factorial of a number<br>\n",
    "factorial(5) = 5! = 1 * 2 * 3 * 4 * 5 = 120<br>\n",
    "factorial(10) = 10! = 1 * 2 * 3 * 4 * 5 * 6 * 7 * 8 * 9 * 10 = 3628800<"
   ]
  },
  {
   "cell_type": "code",
   "execution_count": 1,
   "metadata": {},
   "outputs": [
    {
     "name": "stdout",
     "output_type": "stream",
     "text": [
      "Recursive Method Factorial of 7 is :  5040\n",
      "Iterative Method Factorial of 7 is :  5040\n",
      "Math Function Factorial of 7 is :  5040\n"
     ]
    }
   ],
   "source": [
    "#Recursively\n",
    "def factorial(n):\n",
    "    if n<0:\n",
    "        return 0\n",
    "    elif n==1 or n==0:\n",
    "        return 1\n",
    "    else:\n",
    "        return n*factorial(n-1)\n",
    "print('Recursive Method Factorial of 7 is : ',factorial(7))\n",
    "\n",
    "# Using iteration\n",
    "def factorialIterative(n):\n",
    "    # handle 0,1 and -ves else compute factorial\n",
    "    fact=1\n",
    "    while(n>1):\n",
    "        fact*=n\n",
    "        n-=1\n",
    "    return fact\n",
    "print('Iterative Method Factorial of 7 is : ',factorialIterative(7))\n",
    "\n",
    "\n",
    "# Using in-built math function\n",
    "import math\n",
    "def factorialMath(n):\n",
    "    return math.factorial(n)\n",
    "print('Math Function Factorial of 7 is : ',factorialMath(7))"
   ]
  },
  {
   "cell_type": "markdown",
   "metadata": {},
   "source": [
    "Add two numbers without using arithmetic operators"
   ]
  },
  {
   "cell_type": "code",
   "execution_count": 2,
   "metadata": {},
   "outputs": [
    {
     "name": "stdout",
     "output_type": "stream",
     "text": [
      "10\n"
     ]
    }
   ],
   "source": [
    "# Half adder logic\n",
    "def add(a,b):\n",
    "    if b==0: # 1. If b==0 then a\n",
    "        return a\n",
    "    summation=a^b # 2. Add two numbers without carrying\n",
    "    carry=(a & b)<<1 # 3. Carry without adding\n",
    "    return add(summation,carry) # 4. Recursively compute the sumation\n",
    "print(add(7,3))"
   ]
  },
  {
   "cell_type": "markdown",
   "metadata": {},
   "source": [
    "Recursive function to check if a string is palindrome"
   ]
  },
  {
   "cell_type": "code",
   "execution_count": 3,
   "metadata": {},
   "outputs": [
    {
     "name": "stdout",
     "output_type": "stream",
     "text": [
      "Palindrome\n"
     ]
    }
   ],
   "source": [
    "def palindrome(s):\n",
    "    if len(s)<2: # 1. If string is empty then it's a palindrome.\n",
    "        return \"Palindrome\"\n",
    "    if s[0]==s[-1]:  # 2. If the first and last elements are same.\n",
    "        return palindrome(s[1:-1]) # 3. Check the elements from second index to last index, excluding the last index value.\n",
    "    else:\n",
    "        return \"Not palindrome\"\n",
    "    \n",
    "print(palindrome('MoM'))"
   ]
  },
  {
   "cell_type": "markdown",
   "metadata": {},
   "source": [
    "Remove Duplicates from a string"
   ]
  },
  {
   "cell_type": "code",
   "execution_count": 4,
   "metadata": {},
   "outputs": [
    {
     "name": "stdout",
     "output_type": "stream",
     "text": [
      "am\n",
      "ma\n"
     ]
    },
    {
     "data": {
      "text/plain": [
       "'Technology Development, Design, Web'"
      ]
     },
     "execution_count": 4,
     "metadata": {},
     "output_type": "execute_result"
    }
   ],
   "source": [
    "word='mama'\n",
    "# Without considering order\n",
    "print(''.join(set(word)))\n",
    "# Considering order\n",
    "\n",
    "print(''.join(sorted(set(word), key=word.index)))\n",
    "\n",
    "# Remove duplicate words from a sentence\n",
    "sentence='Web Design, Web Development, Web Technology'\n",
    "' '.join(set(sentence.split()))"
   ]
  },
  {
   "cell_type": "markdown",
   "metadata": {},
   "source": [
    "3) Mean. Compute the mean of number in a list"
   ]
  },
  {
   "cell_type": "code",
   "execution_count": 5,
   "metadata": {},
   "outputs": [
    {
     "name": "stdout",
     "output_type": "stream",
     "text": [
      "7.8\n",
      "7.8\n",
      "7.8\n",
      "7.8\n"
     ]
    }
   ],
   "source": [
    "lst=[12,9,4,6,8]\n",
    "# 1. Using the sum() and len() functions. sum(list)/len(list)\n",
    "def listAveragewithSumFunc(lst):\n",
    "    return sum(lst)/len(lst)\n",
    "print(listAveragewithSumFunc(lst))\n",
    "\n",
    "from statistics import mean\n",
    "def listAveragewithMeanStatFunc(lst):\n",
    "    return mean(lst)\n",
    "print(listAveragewithMeanStatFunc(lst))\n",
    "\n",
    "# importing reduce()\n",
    "from functools import reduce\n",
    "def listAveragewithReduceFunc(lst):\n",
    "    return reduce(lambda a, b: a + b, lst) / len(lst)\n",
    "print(listAveragewithReduceFunc(lst))\n",
    "\n",
    "\n",
    "def listAveragewithLoopFunc(lst):\n",
    "    sumOfNumbers = 0\n",
    "    for t in lst:\n",
    "        sumOfNumbers = sumOfNumbers + t\n",
    "\n",
    "    avg = sumOfNumbers / len(lst)\n",
    "    return avg\n",
    "print(listAveragewithLoopFunc(lst))"
   ]
  },
  {
   "cell_type": "markdown",
   "metadata": {},
   "source": [
    "4) Variance. Calculate the variance of elements in a list. "
   ]
  },
  {
   "cell_type": "code",
   "execution_count": 6,
   "metadata": {},
   "outputs": [
    {
     "name": "stdout",
     "output_type": "stream",
     "text": [
      "7.360000000000001\n"
     ]
    },
    {
     "ename": "NameError",
     "evalue": "name 'data' is not defined",
     "output_type": "error",
     "traceback": [
      "\u001b[1;31m---------------------------------------------------------------------------\u001b[0m",
      "\u001b[1;31mNameError\u001b[0m                                 Traceback (most recent call last)",
      "\u001b[1;32m<ipython-input-6-2336ee40bd07>\u001b[0m in \u001b[0;36m<module>\u001b[1;34m()\u001b[0m\n\u001b[0;32m      9\u001b[0m \u001b[1;31m# Sample Variance\u001b[0m\u001b[1;33m\u001b[0m\u001b[1;33m\u001b[0m\u001b[0m\n\u001b[0;32m     10\u001b[0m \u001b[1;32mfrom\u001b[0m \u001b[0mstatistics\u001b[0m \u001b[1;32mimport\u001b[0m \u001b[0mvariance\u001b[0m\u001b[1;33m\u001b[0m\u001b[0m\n\u001b[1;32m---> 11\u001b[1;33m \u001b[0mvariance\u001b[0m\u001b[1;33m(\u001b[0m\u001b[0mdata\u001b[0m\u001b[1;33m)\u001b[0m\u001b[1;33m\u001b[0m\u001b[0m\n\u001b[0m\u001b[0;32m     12\u001b[0m \u001b[1;33m\u001b[0m\u001b[0m\n\u001b[0;32m     13\u001b[0m \u001b[1;31m# Population Variance\u001b[0m\u001b[1;33m\u001b[0m\u001b[1;33m\u001b[0m\u001b[0m\n",
      "\u001b[1;31mNameError\u001b[0m: name 'data' is not defined"
     ]
    }
   ],
   "source": [
    "lst=[12,9,4,6,8]\n",
    "def calVariance(lst):\n",
    "    mean=sum(lst)/len(lst)\n",
    "    variance=sum((xi - mean) **2 for xi in lst) /len(lst)\n",
    "    return variance\n",
    "    \n",
    "print(calVariance(lst))\n",
    "\n",
    "# Sample Variance\n",
    "from statistics import variance\n",
    "variance(data)\n",
    "\n",
    "# Population Variance\n",
    "from statistics import pvariance\n",
    "pvariance(data)"
   ]
  },
  {
   "cell_type": "markdown",
   "metadata": {},
   "source": [
    "5) STD. Calculate the standard deviation of elements in a list. "
   ]
  },
  {
   "cell_type": "markdown",
   "metadata": {},
   "source": [
    "5) RMSE. Calculate the RMSE (root mean squared error) of a model. The function takes in two lists: one with actual values, one with predictions.\n",
    "\n",
    "\n",
    "\n",
    "\n",
    "\n",
    "rmse([1, 2], [1, 2]) = 0\n",
    "rmse([1, 2, 3], [3, 2, 1]) = 1.63\n"
   ]
  },
  {
   "cell_type": "markdown",
   "metadata": {},
   "source": [
    "6) Remove duplicates. Remove duplicates in list. The list is not sorted and the order of elements from the original list should be preserved.\n",
    "\n",
    "\n",
    "1\n",
    "\n",
    "\n",
    "[1, 2, 3, 1] ⇒ [1, 2, 3]\n",
    "[1, 3, 2, 1, 5, 3, 5, 1, 4] ⇒ [1, 3, 2, 5, 4]"
   ]
  },
  {
   "cell_type": "markdown",
   "metadata": {},
   "source": [
    "7) Count. Count how many times each element in a list occurs.\n",
    "\n",
    "\n",
    "\n",
    "\n",
    "\n",
    "[1, 3, 2, 1, 5, 3, 5, 1, 4] ⇒  \n",
    "\n",
    "\n",
    "\n",
    "\n",
    "\n",
    "1: 3 times\n",
    "2: 1 time\n",
    "3: 2 times\n",
    "4: 1 time\n",
    "5: 2 times"
   ]
  },
  {
   "cell_type": "markdown",
   "metadata": {},
   "source": [
    "8) Palindrome. Is string a palindrome? A palindrome is a word which reads the same backward as forwards.\n",
    "\n",
    "\n",
    "\n",
    "\n",
    "\n",
    "“ololo” ⇒ Yes\n",
    "“cafe” ⇒ No"
   ]
  },
  {
   "cell_type": "markdown",
   "metadata": {},
   "source": [
    "11) RLE. Implement RLE (run-length encoding): encode each character by the number of times it appears consecutively.\n",
    "\n",
    "\n",
    "\n",
    "\n",
    "\n",
    "'aaaabbbcca' ⇒ [('a', 4), ('b', 3), ('c', 2), ('a', 1)]\n",
    "(note that there are two groups of 'a')"
   ]
  },
  {
   "cell_type": "markdown",
   "metadata": {},
   "source": [
    "12) Jaccard. Calculate the Jaccard similarity between two sets: the size of intersection divided by the size of union.\n",
    "\n",
    "\n",
    "\n",
    "\n",
    "\n",
    "jaccard({'a', 'b', 'c'}, {'a', 'd'}) = 1 / 4 "
   ]
  },
  {
   "cell_type": "markdown",
   "metadata": {},
   "source": [
    "13) IDF. Given a collection of already tokenized texts, calculate the IDF (inverse document frequency) of each token.\n",
    "\n",
    "\n",
    "\n",
    "\n",
    "\n",
    "input example: [['interview', 'questions'], ['interview', 'answers']]\n",
    "\n",
    "Where:\n",
    "\n",
    "\n",
    "\n",
    "\n",
    "\n",
    "t is the token,\n",
    "n(t) is the number of documents that t occurs in,\n",
    "N is the total number of documents"
   ]
  },
  {
   "cell_type": "markdown",
   "metadata": {},
   "source": [
    "14) PMI. Given a collection of already tokenized texts, find the PMI (pointwise mutual information) of each pair of tokens. Return top 10 pairs according to PMI.\n",
    "\n",
    "\n",
    "\n",
    "\n",
    "\n",
    "input example: [['interview', 'questions'], ['interview', 'answers']]\n",
    "PMI is used for finding collocations in text — things like “New York” or “Puerto Rico”. For two consecutive words, the PMI between them is:\n",
    "\n",
    "\n",
    "1\n",
    "\n",
    "\n",
    "\n",
    "The higher the PMI, the more likely these two tokens form a collection. We can estimate PMI by counting: \n",
    "\n",
    "\n",
    "\n",
    "\n",
    "\n",
    "\n",
    "Where:\n",
    "\n",
    "\n",
    "\n",
    "\n",
    "\n",
    "N is the total number of tokens in the text,\n",
    "c(t1, t2) is the number of times t1 and t2 appear together,\n",
    "c(t1) and c(t2) — the number of times they appear separately.\n",
    "\n",
    "\n",
    "\n",
    "\n",
    "These questions can also be used to check the knowledge of NumPy — some of them may be solved in NumPy with just one or two lines.\n",
    "\n",
    "\n",
    "\n",
    "\n",
    "\n",
    "Next, we’ll look at a slightly different type of coding tasks — algorithmic questions.\n",
    "\n",
    "\n",
    "\n",
    "\n"
   ]
  },
  {
   "cell_type": "code",
   "execution_count": null,
   "metadata": {},
   "outputs": [],
   "source": []
  },
  {
   "cell_type": "markdown",
   "metadata": {},
   "source": [
    "1) Two sum. Given an array and a number N, return True if there are numbers A, B in the array such that A + B = N. Otherwise, return False.\n",
    "\n",
    "\n",
    "\n",
    "\n",
    "\n",
    "[1, 2, 3, 4], 5 ⇒ True\n",
    "[3, 4, 6], 6 ⇒ False"
   ]
  },
  {
   "cell_type": "markdown",
   "metadata": {},
   "source": [
    "2) Fibonacci. Return the n-th Fibonacci number, which is computed using this formula:\n",
    "\n",
    "\n",
    "\n",
    "\n",
    "\n",
    "F(0) = 0\n",
    "F(1) = 1\n",
    "F(n) = F(n-1) + F(n-2)\n",
    "The sequence is: 0, 1, 1, 2, 3, 5, 8, 13, 21, 34, 55, 89, ..."
   ]
  },
  {
   "cell_type": "markdown",
   "metadata": {},
   "source": [
    "3) Most frequent outcome. We have two dice of different sizes (D1 and D2). We roll them and sum their face values. What are the most probable outcomes?\n",
    "\n",
    "\n",
    "\n",
    "\n",
    "\n",
    "6, 6 ⇒ [7]\n",
    "2, 4 ⇒ [3, 4, 5] "
   ]
  },
  {
   "cell_type": "markdown",
   "metadata": {},
   "source": [
    "4) Reverse a linked list. Write a function for reversing a linked list.\n",
    "\n",
    "\n",
    "\n",
    "\n",
    "\n",
    "The definition of a list node: Node(value, next)\n",
    "Example: a -> b -> c ⇒ c -> b -> a"
   ]
  },
  {
   "cell_type": "markdown",
   "metadata": {},
   "source": [
    "5) Flip a binary tree. Write a function for rotating a binary tree.\n",
    "\n",
    "\n",
    "\n",
    "\n",
    "\n",
    "The definition of a tree node: Node(value, left, right)"
   ]
  },
  {
   "cell_type": "markdown",
   "metadata": {},
   "source": [
    "6) Binary search. Return the index of a given number in a sorted array or -1 if it’s not there.\n",
    "\n",
    "\n",
    "\n",
    "\n",
    "\n",
    "[1, 4, 6, 10], 4 ⇒ 1\n",
    "[1, 4, 6, 10], 3 ⇒ -1"
   ]
  },
  {
   "cell_type": "markdown",
   "metadata": {},
   "source": [
    "7) Deduplication. Remove duplicates from a sorted array.\n",
    "\n",
    "\n",
    "\n",
    "\n",
    "\n",
    "[1, 1, 1, 2, 3, 4, 4, 4, 5, 6, 6] ⇒ [1, 2, 3, 4, 5, 6]"
   ]
  },
  {
   "cell_type": "markdown",
   "metadata": {},
   "source": [
    "8) Intersection. Return the intersection of two sorted arrays.\n",
    "\n",
    "\n",
    "\n",
    "\n",
    "\n",
    "[1, 2, 4, 6, 10], [2, 4, 5, 7, 10] ⇒ [2, 4, 10]"
   ]
  },
  {
   "cell_type": "markdown",
   "metadata": {},
   "source": [
    "9) Union. Return the union of two sorted arrays.\n",
    "\n",
    "\n",
    "\n",
    "\n",
    "\n",
    "[1, 2, 4, 6, 10], [2, 4, 5, 7, 10] ⇒ [1, 2, 4, 5, 6, 7, 10]"
   ]
  },
  {
   "cell_type": "markdown",
   "metadata": {},
   "source": [
    "10) Addition. Implement the addition algorithm from school. Suppose we represent numbers by a list of integers from 0 to 9:\n",
    "\n",
    "\n",
    "\n",
    "\n",
    "\n",
    "12 is [1, 2]\n",
    "1000 is [1, 0, 0, 0]\n",
    "\n",
    "Implement the “+” operation for this representation\n",
    "\n",
    "\n",
    "\n",
    "\n",
    "\n",
    "[1, 1] + [1] ⇒ [1, 2] <br>\n",
    "[9, 9] + [2] ⇒ [1, 0, 1]"
   ]
  },
  {
   "cell_type": "markdown",
   "metadata": {},
   "source": [
    "11) Sort by custom alphabet. You’re given a list of words and an alphabet (e.g. a permutation of Latin alphabet). You need to use this alphabet to order words in the list.\n",
    "\n",
    "\n",
    "\n",
    "\n",
    "\n",
    "Example (taken from here):\n",
    "\n",
    "\n",
    "\n",
    "\n",
    "\n",
    "Words: ['home', 'oval', 'cat', 'egg', 'network', 'green']\n",
    "Dictionary: 'bcdfghijklmnpqrstvwxzaeiouy'\n",
    "Output:\n",
    "\n",
    "\n",
    "\n",
    "\n",
    "\n",
    "['cat', 'green', 'home', 'network', 'egg', 'oval']"
   ]
  },
  {
   "cell_type": "markdown",
   "metadata": {},
   "source": [
    "12) Check if a tree is a binary search tree. In BST, the element in the root is:\n",
    "\n",
    "\n",
    "\n",
    "\n",
    "\n",
    "Greater than or equal to the numbers on the left\n",
    "Less than or equal to the number on the right\n",
    "The definition of a tree node: Node(value, left, right)\n",
    "\n",
    "\n",
    "\n",
    "\n",
    "\n"
   ]
  },
  {
   "cell_type": "markdown",
   "metadata": {},
   "source": [
    "## Linear Search Algorithm"
   ]
  },
  {
   "cell_type": "code",
   "execution_count": 11,
   "metadata": {},
   "outputs": [],
   "source": [
    "def linear_search(list_items, query):\n",
    "    #start seraching from position 0\n",
    "    position=0\n",
    "    #Loop through the list\n",
    "    while position<len(list_items):\n",
    "        #check if the item is at current position then return the position and exit\n",
    "        if list_items[position]==query:\n",
    "            print('Item found')\n",
    "            return position\n",
    "        #increment to the next position in the list\n",
    "        position+=1\n",
    "    return -1"
   ]
  },
  {
   "cell_type": "code",
   "execution_count": 16,
   "metadata": {},
   "outputs": [
    {
     "name": "stdout",
     "output_type": "stream",
     "text": [
      "Item found\n"
     ]
    },
    {
     "data": {
      "text/plain": [
       "4"
      ]
     },
     "execution_count": 16,
     "metadata": {},
     "output_type": "execute_result"
    }
   ],
   "source": [
    "list_items=[67,90,50,38,70,55]\n",
    "query=70\n",
    "linear_search(list_items, query)"
   ]
  },
  {
   "cell_type": "code",
   "execution_count": null,
   "metadata": {},
   "outputs": [],
   "source": []
  }
 ],
 "metadata": {
  "kernelspec": {
   "display_name": "Python 3",
   "language": "python",
   "name": "python3"
  },
  "language_info": {
   "codemirror_mode": {
    "name": "ipython",
    "version": 3
   },
   "file_extension": ".py",
   "mimetype": "text/x-python",
   "name": "python",
   "nbconvert_exporter": "python",
   "pygments_lexer": "ipython3",
   "version": "3.6.5"
  }
 },
 "nbformat": 4,
 "nbformat_minor": 2
}
